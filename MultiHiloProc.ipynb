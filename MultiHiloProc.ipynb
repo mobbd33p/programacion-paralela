{
  "nbformat": 4,
  "nbformat_minor": 0,
  "metadata": {
    "colab": {
      "name": "MultiHiloProc.ipynb",
      "provenance": [],
      "collapsed_sections": []
    },
    "kernelspec": {
      "name": "python3",
      "display_name": "Python 3"
    },
    "language_info": {
      "name": "python"
    },
    "accelerator": "GPU"
  },
  "cells": [
    {
      "cell_type": "code",
      "metadata": {
        "id": "fZOVYdYyU28s"
      },
      "source": [
        "ronaldiño noa jorge"
      ],
      "execution_count": null,
      "outputs": []
    },
    {
      "cell_type": "code",
      "metadata": {
        "id": "5x_WqEpeNwIu",
        "colab": {
          "base_uri": "https://localhost:8080/"
        },
        "outputId": "ebe58563-2cd7-443e-bab5-59d57713bc09"
      },
      "source": [
        "# secuencial (no paralelizado)\n",
        "%%time\n",
        "# ==============================================================================\n",
        "import pandas as pd\n",
        "import numpy as np\n",
        "\n",
        "# Se define la función\n",
        "def suma_acumulada(number):\n",
        "    return sum(range(1, number + 1))\n",
        "\n",
        "# Lista de elementos sobre los que se quiere aplicar la función\n",
        "valores = [10**8, 10**8, 10**8, 10**8, 10**8]"
      ],
      "execution_count": null,
      "outputs": [
        {
          "output_type": "stream",
          "name": "stdout",
          "text": [
            "CPU times: user 0 ns, sys: 64 µs, total: 64 µs\n",
            "Wall time: 80.3 µs\n"
          ]
        }
      ]
    },
    {
      "cell_type": "code",
      "metadata": {
        "colab": {
          "base_uri": "https://localhost:8080/"
        },
        "id": "p0svlQ1LNyjm",
        "outputId": "a9aea563-72e4-432f-f876-21e6a8a270df"
      },
      "source": [
        "%%time\n",
        "\n",
        "# Aplicar la función sobre cada elemento de forma secuencial\n",
        "resultados = []\n",
        "\n",
        "for valor in valores:\n",
        "    resultado = suma_acumulada(valor)\n",
        "    resultados.append(resultado)\n",
        "    \n",
        "resultados"
      ],
      "execution_count": null,
      "outputs": [
        {
          "output_type": "stream",
          "name": "stdout",
          "text": [
            "CPU times: user 10.6 s, sys: 39.3 ms, total: 10.6 s\n",
            "Wall time: 10.6 s\n"
          ]
        }
      ]
    },
    {
      "cell_type": "code",
      "metadata": {
        "id": "YeFRK2zfOJPp",
        "colab": {
          "base_uri": "https://localhost:8080/"
        },
        "outputId": "16809d7c-7772-4c75-f610-672a2ec397c6"
      },
      "source": [
        "# multiprocessing Pool.map\n",
        "# ==============================================================================\n",
        "%%time\n",
        "import pandas as pd\n",
        "import numpy as np\n",
        "import multiprocessing\n",
        "\n",
        "# Se define la función\n",
        "def suma_acumulada(number):\n",
        "    return sum(range(1, number + 1))\n",
        "\n",
        "# Lista de elementos sobre los que se quiere aplicar la función\n",
        "valores = [10**8, 10**8, 10**8, 10**8, 10**8]"
      ],
      "execution_count": null,
      "outputs": [
        {
          "output_type": "stream",
          "name": "stdout",
          "text": [
            "CPU times: user 12 µs, sys: 0 ns, total: 12 µs\n",
            "Wall time: 14.1 µs\n"
          ]
        }
      ]
    },
    {
      "cell_type": "code",
      "metadata": {
        "colab": {
          "base_uri": "https://localhost:8080/"
        },
        "id": "pniwcxknONKp",
        "outputId": "746db810-f4ca-40f4-f770-e6e2a679d626"
      },
      "source": [
        "%%time\n",
        "\n",
        "# Aplicar la función sobre cada elemento en paralelo\n",
        "pool = multiprocessing.Pool(processes=multiprocessing.cpu_count())\n",
        "resultados = pool.map(suma_acumulada, valores)\n",
        "resultados"
      ],
      "execution_count": null,
      "outputs": [
        {
          "output_type": "stream",
          "name": "stdout",
          "text": [
            "CPU times: user 47.1 ms, sys: 28 ms, total: 75.1 ms\n",
            "Wall time: 11.7 s\n"
          ]
        }
      ]
    },
    {
      "cell_type": "code",
      "metadata": {
        "id": "qrTqBplefUbT",
        "colab": {
          "base_uri": "https://localhost:8080/"
        },
        "outputId": "95077ae2-603a-4556-f3b8-1930d5355110"
      },
      "source": [
        "%%time\n",
        "import threading  \n",
        "import time  \n",
        "\n",
        "  \n",
        "def worker(num):  \n",
        "    time.sleep(1)  \n",
        "    print(\"The num is  %d\" % num)  \n",
        "    print(t.getName()  )\n",
        "    return  \n",
        "  \n",
        "for i in range(20):  \n",
        "    t = threading.Thread(target=worker, args=(i,), name=\"testThread\")  \n",
        "    t.start()  "
      ],
      "execution_count": null,
      "outputs": [
        {
          "output_type": "stream",
          "name": "stdout",
          "text": [
            "CPU times: user 1.71 ms, sys: 2 ms, total: 3.71 ms\n",
            "Wall time: 7.24 ms\n"
          ]
        }
      ]
    },
    {
      "cell_type": "code",
      "metadata": {
        "colab": {
          "base_uri": "https://localhost:8080/"
        },
        "id": "QA3SS_YGfgR9",
        "outputId": "37d39bf7-4b8a-460a-c033-c0c99d429bb0"
      },
      "source": [
        "%%time\n",
        "from time import ctime, sleep  \n",
        "  \n",
        "  \n",
        "def music(argv):  \n",
        "    for i in range(2):  \n",
        "        print(\"listen music  %s. %s\" % (argv, ctime()) )\n",
        "        sleep(1)  \n",
        "  \n",
        "  \n",
        "def movie(argv):  \n",
        "    for i in range(2):  \n",
        "        print(\"watch movie!  %s. %s\" % (argv, ctime())  )\n",
        "        sleep(5)  \n",
        "  \n",
        "if __name__ == '__main__':  \n",
        "    music(u'trouble is a friend')  \n",
        "    movie(u'Transformadores')  \n",
        "    print(\"all over %s\" % ctime() )"
      ],
      "execution_count": null,
      "outputs": [
        {
          "output_type": "stream",
          "name": "stdout",
          "text": [
            "listen music  trouble is a friend. Fri Sep 10 01:18:20 2021\n",
            "listen music  trouble is a friend. Fri Sep 10 01:18:21 2021\n",
            "watch movie!  Transformadores. Fri Sep 10 01:18:22 2021\n",
            "watch movie!  Transformadores. Fri Sep 10 01:18:27 2021\n",
            "all over Fri Sep 10 01:18:32 2021\n",
            "CPU times: user 59.3 ms, sys: 4.09 ms, total: 63.4 ms\n",
            "Wall time: 12 s\n"
          ]
        }
      ]
    },
    {
      "cell_type": "code",
      "metadata": {
        "colab": {
          "base_uri": "https://localhost:8080/"
        },
        "id": "zF0PdYNSgJ8X",
        "outputId": "3eeb9174-f139-4134-b6e4-6b93da4850f3"
      },
      "source": [
        "%%time\n",
        "import multiprocessing  \n",
        "  \n",
        "def worker(num):  \n",
        "    \"\"\"thread worker function\"\"\"  \n",
        "    print('Worker:', num  )\n",
        "    return  \n",
        "  \n",
        "if __name__ == '__main__':  \n",
        "    jobs = []  \n",
        "    for i in range(5):  \n",
        "        p = multiprocessing.Process(target=worker, args=(i,))  \n",
        "        jobs.append(p)  \n",
        "        p.start()  "
      ],
      "execution_count": null,
      "outputs": [
        {
          "output_type": "stream",
          "name": "stdout",
          "text": [
            "Worker: 0\n",
            "Worker: 1\n",
            "Worker: 3\n",
            "Worker: 2\n",
            "CPU times: user 7.22 ms, sys: 25 ms, total: 32.2 ms\n",
            "Wall time: 44.8 ms\n",
            "Worker: 4\n"
          ]
        }
      ]
    },
    {
      "cell_type": "code",
      "metadata": {
        "colab": {
          "base_uri": "https://localhost:8080/"
        },
        "id": "1h3GBmQLgpou",
        "outputId": "6b82d16e-2d50-4b84-c66e-10c66628fa75"
      },
      "source": [
        "%%time\n",
        "import multiprocessing  \n",
        "import time  \n",
        "  \n",
        "def worker():  \n",
        "    name = multiprocessing.current_process().name  \n",
        "    print (name, 'Starting'  )\n",
        "    time.sleep(2)  \n",
        "    print (name, 'Exiting'  )\n",
        "  \n",
        "def my_service():  \n",
        "    name = multiprocessing.current_process().name  \n",
        "    print (name, 'Starting'  )\n",
        "    time.sleep(3)  \n",
        "    print (name, 'Exiting'  )\n",
        "  \n",
        "if __name__ == '__main__':  \n",
        "    service = multiprocessing.Process(name='my_service',  \n",
        "                                      target=my_service)  \n",
        "    worker_1 = multiprocessing.Process(name='worker 1',  \n",
        "                                       target=worker)  \n",
        "    worker_2 = multiprocessing.Process(target=worker) # default name  \n",
        "    worker_1.start()  \n",
        "    worker_2.start()  \n",
        "    service.start()      "
      ],
      "execution_count": null,
      "outputs": [
        {
          "output_type": "stream",
          "name": "stdout",
          "text": [
            "worker 1 Starting\n",
            "CPU times: user 6.77 ms, sys: 12 ms, total: 18.8 ms\n",
            "Wall time: 22.1 ms\n",
            "my_service Starting\n",
            "Process-23 Starting\n"
          ]
        }
      ]
    },
    {
      "cell_type": "code",
      "metadata": {
        "colab": {
          "base_uri": "https://localhost:8080/"
        },
        "id": "Lzr8bjhRhyL5",
        "outputId": "5f40283a-5c04-42ab-b182-0f5a6c773d73"
      },
      "source": [
        "%%time\n",
        "import threading\n",
        "  \n",
        "# how many threads we want to start  \n",
        "THREADS_COUNT = 3  \n",
        "\n",
        "class Threaded_worker(threading.Thread):\n",
        "    def __init__(self):\n",
        "        threading.Thread.__init__(self)\n",
        "    def run(self):\n",
        "        threadName = threading.currentThread().getName()\n",
        "        print(\"Hello, I am the thread %s\" % threadName)\n",
        "\n",
        "print('Starting %d threads...' % THREADS_COUNT)\n",
        "for i in range(THREADS_COUNT):\n",
        "    td = Threaded_worker()\n",
        "    td.start()"
      ],
      "execution_count": null,
      "outputs": [
        {
          "output_type": "stream",
          "name": "stdout",
          "text": [
            "Starting 3 threads...\n",
            "Hello, I am the thread Thread-19\n",
            "Hello, I am the thread Thread-20\n",
            "Hello, I am the thread Thread-21CPU times: user 2.58 ms, sys: 999 µs, total: 3.58 ms\n",
            "Wall time: 5.33 ms\n",
            "\n"
          ]
        }
      ]
    },
    {
      "cell_type": "code",
      "metadata": {
        "colab": {
          "base_uri": "https://localhost:8080/"
        },
        "id": "LCEqCaY9iI8t",
        "outputId": "a5f7b8e2-53b7-49da-9f4a-a4a574ccb22c"
      },
      "source": [
        "%%time\n",
        "import multiprocessing\n",
        "import os\n",
        "\n",
        "# how many processes we want to start\n",
        "WORKER_NUMBER = 3\n",
        "\n",
        "def worker():\n",
        "    PID = os.getpid()\n",
        "    print (\"Hello, I am the process with PID %d\" % PID)\n",
        "\n",
        "print ('Starting %d processes...' % WORKER_NUMBER)\n",
        "\n",
        "jobs = []\n",
        "for i in range(WORKER_NUMBER):\n",
        "    p = multiprocessing.Process(target=worker, args=())\n",
        "    jobs.append(p)\n",
        "    p.start()"
      ],
      "execution_count": null,
      "outputs": [
        {
          "output_type": "stream",
          "name": "stdout",
          "text": [
            "Starting 3 processes...\n",
            "CPU times: user 10 ms, sys: 11 ms, total: 21.1 ms\n",
            "Wall time: 22.4 ms\n",
            "Hello, I am the process with PID 319\n",
            "Hello, I am the process with PID 318\n",
            "Hello, I am the process with PID 322\n"
          ]
        }
      ]
    },
    {
      "cell_type": "code",
      "metadata": {
        "id": "oL7mHcBliiUQ",
        "colab": {
          "base_uri": "https://localhost:8080/"
        },
        "outputId": "1bbf96a3-c6cf-4eee-a147-4ad67c495717"
      },
      "source": [
        "%%time\n",
        "def countdown(n):\n",
        "    while n > 0:\n",
        "        n -= 1\n",
        "\n",
        "COUNT = 500000000\n",
        "countdown(COUNT)"
      ],
      "execution_count": null,
      "outputs": [
        {
          "output_type": "stream",
          "name": "stdout",
          "text": [
            "CPU times: user 37.2 s, sys: 62.7 ms, total: 37.3 s\n",
            "Wall time: 37.3 s\n"
          ]
        }
      ]
    },
    {
      "cell_type": "code",
      "metadata": {
        "colab": {
          "base_uri": "https://localhost:8080/"
        },
        "id": "HdEB4Ouii2Gv",
        "outputId": "1cebc195-6cc0-446b-ab8c-3a2ca72e1d79"
      },
      "source": [
        "%%time\n",
        "import threading\n",
        "\n",
        "# how many threads we want to start\n",
        "THREADS_COUNT = 2\n",
        "\n",
        "class Threaded_worker(threading.Thread):\n",
        "    def __init__(self):\n",
        "        threading.Thread.__init__(self)\n",
        "\n",
        "    def run(self):\n",
        "        n = 250000000\n",
        "        while n > 0:\n",
        "            n -= 1\n",
        "\n",
        "for i in range(THREADS_COUNT):\n",
        "    td = Threaded_worker()\n",
        "    td.start()"
      ],
      "execution_count": null,
      "outputs": [
        {
          "output_type": "stream",
          "name": "stdout",
          "text": [
            "CPU times: user 16.7 ms, sys: 0 ns, total: 16.7 ms\n",
            "Wall time: 17.4 ms\n"
          ]
        }
      ]
    },
    {
      "cell_type": "code",
      "metadata": {
        "colab": {
          "base_uri": "https://localhost:8080/"
        },
        "id": "zTbeIcAZjUsj",
        "outputId": "732d9a27-f50f-4c17-c8ca-2fbe8e62311e"
      },
      "source": [
        "%%time\n",
        "import multiprocessing\n",
        "\n",
        "WORKER_NUMBER = 2\n",
        "\n",
        "def worker():\n",
        "    n = 250000000\n",
        "    while n > 0:\n",
        "        n -= 1\n",
        "\n",
        "jobs = []\n",
        "for i in range(WORKER_NUMBER):\n",
        "    p = multiprocessing.Process(target=worker, args=())\n",
        "    jobs.append(p)\n",
        "    p.start()"
      ],
      "execution_count": null,
      "outputs": [
        {
          "output_type": "stream",
          "name": "stdout",
          "text": [
            "CPU times: user 17 ms, sys: 11 ms, total: 28 ms\n",
            "Wall time: 28.2 ms\n"
          ]
        }
      ]
    }
  ]
}